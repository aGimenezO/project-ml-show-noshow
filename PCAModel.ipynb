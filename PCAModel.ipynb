{
 "cells": [
  {
   "cell_type": "code",
   "execution_count": 1,
   "metadata": {},
   "outputs": [],
   "source": [
    "import matplotlib.pyplot as plt\n",
    "import numpy as np\n",
    "import pandas as pd\n",
    "import seaborn as sns"
   ]
  },
  {
   "cell_type": "code",
   "execution_count": 2,
   "metadata": {},
   "outputs": [],
   "source": [
    "plt.rcParams[\"figure.figsize\"] = (10, 6)"
   ]
  },
  {
   "cell_type": "code",
   "execution_count": 3,
   "metadata": {},
   "outputs": [],
   "source": [
    "data = pd.read_csv('data/show_no_show_ready_to_model.csv')"
   ]
  },
  {
   "cell_type": "code",
   "execution_count": 4,
   "metadata": {},
   "outputs": [
    {
     "data": {
      "text/html": [
       "<div>\n",
       "<style scoped>\n",
       "    .dataframe tbody tr th:only-of-type {\n",
       "        vertical-align: middle;\n",
       "    }\n",
       "\n",
       "    .dataframe tbody tr th {\n",
       "        vertical-align: top;\n",
       "    }\n",
       "\n",
       "    .dataframe thead th {\n",
       "        text-align: right;\n",
       "    }\n",
       "</style>\n",
       "<table border=\"1\" class=\"dataframe\">\n",
       "  <thead>\n",
       "    <tr style=\"text-align: right;\">\n",
       "      <th></th>\n",
       "      <th>Age</th>\n",
       "      <th>Scholarship</th>\n",
       "      <th>Hipertension</th>\n",
       "      <th>Diabetes</th>\n",
       "      <th>Alcoholism</th>\n",
       "      <th>Handicap</th>\n",
       "      <th>SMS_received</th>\n",
       "      <th>No-show</th>\n",
       "      <th>Gender_M</th>\n",
       "      <th>AppointmentDay_DOW</th>\n",
       "      <th>AppointmentDay_Day_number</th>\n",
       "      <th>AppointmentDay_month</th>\n",
       "      <th>Difference_Days_App_Date_and_Sched_Day</th>\n",
       "    </tr>\n",
       "  </thead>\n",
       "  <tbody>\n",
       "    <tr>\n",
       "      <td>0</td>\n",
       "      <td>62</td>\n",
       "      <td>0</td>\n",
       "      <td>1</td>\n",
       "      <td>0</td>\n",
       "      <td>0</td>\n",
       "      <td>0</td>\n",
       "      <td>0</td>\n",
       "      <td>0</td>\n",
       "      <td>0</td>\n",
       "      <td>0</td>\n",
       "      <td>29</td>\n",
       "      <td>0</td>\n",
       "      <td>0</td>\n",
       "    </tr>\n",
       "    <tr>\n",
       "      <td>1</td>\n",
       "      <td>56</td>\n",
       "      <td>0</td>\n",
       "      <td>0</td>\n",
       "      <td>0</td>\n",
       "      <td>0</td>\n",
       "      <td>0</td>\n",
       "      <td>0</td>\n",
       "      <td>0</td>\n",
       "      <td>1</td>\n",
       "      <td>0</td>\n",
       "      <td>29</td>\n",
       "      <td>0</td>\n",
       "      <td>0</td>\n",
       "    </tr>\n",
       "    <tr>\n",
       "      <td>2</td>\n",
       "      <td>62</td>\n",
       "      <td>0</td>\n",
       "      <td>0</td>\n",
       "      <td>0</td>\n",
       "      <td>0</td>\n",
       "      <td>0</td>\n",
       "      <td>0</td>\n",
       "      <td>0</td>\n",
       "      <td>0</td>\n",
       "      <td>0</td>\n",
       "      <td>29</td>\n",
       "      <td>0</td>\n",
       "      <td>0</td>\n",
       "    </tr>\n",
       "    <tr>\n",
       "      <td>3</td>\n",
       "      <td>8</td>\n",
       "      <td>0</td>\n",
       "      <td>0</td>\n",
       "      <td>0</td>\n",
       "      <td>0</td>\n",
       "      <td>0</td>\n",
       "      <td>0</td>\n",
       "      <td>0</td>\n",
       "      <td>0</td>\n",
       "      <td>0</td>\n",
       "      <td>29</td>\n",
       "      <td>0</td>\n",
       "      <td>0</td>\n",
       "    </tr>\n",
       "    <tr>\n",
       "      <td>4</td>\n",
       "      <td>56</td>\n",
       "      <td>0</td>\n",
       "      <td>1</td>\n",
       "      <td>1</td>\n",
       "      <td>0</td>\n",
       "      <td>0</td>\n",
       "      <td>0</td>\n",
       "      <td>0</td>\n",
       "      <td>0</td>\n",
       "      <td>0</td>\n",
       "      <td>29</td>\n",
       "      <td>0</td>\n",
       "      <td>0</td>\n",
       "    </tr>\n",
       "  </tbody>\n",
       "</table>\n",
       "</div>"
      ],
      "text/plain": [
       "   Age  Scholarship  Hipertension  Diabetes  Alcoholism  Handicap  \\\n",
       "0   62            0             1         0           0         0   \n",
       "1   56            0             0         0           0         0   \n",
       "2   62            0             0         0           0         0   \n",
       "3    8            0             0         0           0         0   \n",
       "4   56            0             1         1           0         0   \n",
       "\n",
       "   SMS_received  No-show  Gender_M  AppointmentDay_DOW  \\\n",
       "0             0        0         0                   0   \n",
       "1             0        0         1                   0   \n",
       "2             0        0         0                   0   \n",
       "3             0        0         0                   0   \n",
       "4             0        0         0                   0   \n",
       "\n",
       "   AppointmentDay_Day_number  AppointmentDay_month  \\\n",
       "0                         29                     0   \n",
       "1                         29                     0   \n",
       "2                         29                     0   \n",
       "3                         29                     0   \n",
       "4                         29                     0   \n",
       "\n",
       "   Difference_Days_App_Date_and_Sched_Day  \n",
       "0                                       0  \n",
       "1                                       0  \n",
       "2                                       0  \n",
       "3                                       0  \n",
       "4                                       0  "
      ]
     },
     "execution_count": 4,
     "metadata": {},
     "output_type": "execute_result"
    }
   ],
   "source": [
    "data.head()"
   ]
  },
  {
   "cell_type": "code",
   "execution_count": 5,
   "metadata": {},
   "outputs": [],
   "source": [
    "# load decomposition to do PCA analysis with sklearn\n",
    "from sklearn import decomposition"
   ]
  },
  {
   "cell_type": "code",
   "execution_count": 18,
   "metadata": {},
   "outputs": [],
   "source": [
    "pca = decomposition.PCA()"
   ]
  },
  {
   "cell_type": "code",
   "execution_count": 19,
   "metadata": {},
   "outputs": [],
   "source": [
    "pc = pca.fit_transform(data)"
   ]
  },
  {
   "cell_type": "code",
   "execution_count": 20,
   "metadata": {},
   "outputs": [],
   "source": [
    "pc= pca.transform(data)"
   ]
  },
  {
   "cell_type": "code",
   "execution_count": 21,
   "metadata": {},
   "outputs": [
    {
     "data": {
      "text/plain": [
       "(106490, 13)"
      ]
     },
     "execution_count": 21,
     "metadata": {},
     "output_type": "execute_result"
    }
   ],
   "source": [
    "pc.shape"
   ]
  },
  {
   "cell_type": "code",
   "execution_count": 22,
   "metadata": {},
   "outputs": [],
   "source": [
    "pca_df1=pd.DataFrame(pc,columns=[\"pc\"+str(i) for i in range(data.shape[1])])"
   ]
  },
  {
   "cell_type": "code",
   "execution_count": 24,
   "metadata": {},
   "outputs": [],
   "source": [
    "pca_df1[\"Show-No_Show\"]= data[\"No-show\"]"
   ]
  },
  {
   "cell_type": "code",
   "execution_count": 25,
   "metadata": {},
   "outputs": [
    {
     "data": {
      "text/html": [
       "<div>\n",
       "<style scoped>\n",
       "    .dataframe tbody tr th:only-of-type {\n",
       "        vertical-align: middle;\n",
       "    }\n",
       "\n",
       "    .dataframe tbody tr th {\n",
       "        vertical-align: top;\n",
       "    }\n",
       "\n",
       "    .dataframe thead th {\n",
       "        text-align: right;\n",
       "    }\n",
       "</style>\n",
       "<table border=\"1\" class=\"dataframe\">\n",
       "  <thead>\n",
       "    <tr style=\"text-align: right;\">\n",
       "      <th></th>\n",
       "      <th>pc0</th>\n",
       "      <th>pc1</th>\n",
       "      <th>pc2</th>\n",
       "      <th>pc3</th>\n",
       "      <th>pc4</th>\n",
       "      <th>pc5</th>\n",
       "      <th>pc6</th>\n",
       "      <th>pc7</th>\n",
       "      <th>pc8</th>\n",
       "      <th>pc9</th>\n",
       "      <th>pc10</th>\n",
       "      <th>pc11</th>\n",
       "      <th>pc12</th>\n",
       "      <th>Show-No_Show</th>\n",
       "    </tr>\n",
       "  </thead>\n",
       "  <tbody>\n",
       "    <tr>\n",
       "      <td>0</td>\n",
       "      <td>23.209501</td>\n",
       "      <td>-9.779255</td>\n",
       "      <td>17.026271</td>\n",
       "      <td>2.719227</td>\n",
       "      <td>1.709414</td>\n",
       "      <td>-0.057420</td>\n",
       "      <td>0.656868</td>\n",
       "      <td>0.260794</td>\n",
       "      <td>0.158406</td>\n",
       "      <td>-0.418103</td>\n",
       "      <td>-0.114350</td>\n",
       "      <td>-0.387413</td>\n",
       "      <td>-0.044876</td>\n",
       "      <td>0</td>\n",
       "    </tr>\n",
       "    <tr>\n",
       "      <td>1</td>\n",
       "      <td>17.204712</td>\n",
       "      <td>-9.514190</td>\n",
       "      <td>17.003805</td>\n",
       "      <td>2.719841</td>\n",
       "      <td>1.614267</td>\n",
       "      <td>0.895682</td>\n",
       "      <td>0.547262</td>\n",
       "      <td>0.075054</td>\n",
       "      <td>-0.448589</td>\n",
       "      <td>0.180085</td>\n",
       "      <td>0.059939</td>\n",
       "      <td>0.001202</td>\n",
       "      <td>-0.034315</td>\n",
       "      <td>0</td>\n",
       "    </tr>\n",
       "    <tr>\n",
       "      <td>2</td>\n",
       "      <td>23.200531</td>\n",
       "      <td>-9.777876</td>\n",
       "      <td>17.026325</td>\n",
       "      <td>2.718992</td>\n",
       "      <td>1.708789</td>\n",
       "      <td>-0.053010</td>\n",
       "      <td>0.673608</td>\n",
       "      <td>0.143952</td>\n",
       "      <td>-0.352870</td>\n",
       "      <td>0.336261</td>\n",
       "      <td>-0.069597</td>\n",
       "      <td>0.003778</td>\n",
       "      <td>-0.023355</td>\n",
       "      <td>0</td>\n",
       "    </tr>\n",
       "    <tr>\n",
       "      <td>3</td>\n",
       "      <td>-30.743832</td>\n",
       "      <td>-7.398090</td>\n",
       "      <td>16.822965</td>\n",
       "      <td>2.707186</td>\n",
       "      <td>1.715934</td>\n",
       "      <td>-0.128378</td>\n",
       "      <td>0.718456</td>\n",
       "      <td>0.174364</td>\n",
       "      <td>0.009740</td>\n",
       "      <td>-0.041667</td>\n",
       "      <td>-0.200536</td>\n",
       "      <td>-0.016670</td>\n",
       "      <td>-0.007199</td>\n",
       "      <td>0</td>\n",
       "    </tr>\n",
       "    <tr>\n",
       "      <td>4</td>\n",
       "      <td>17.219051</td>\n",
       "      <td>-9.515663</td>\n",
       "      <td>17.003702</td>\n",
       "      <td>2.718789</td>\n",
       "      <td>1.712948</td>\n",
       "      <td>-0.070244</td>\n",
       "      <td>0.657122</td>\n",
       "      <td>0.315292</td>\n",
       "      <td>0.382622</td>\n",
       "      <td>-0.800763</td>\n",
       "      <td>-0.172663</td>\n",
       "      <td>0.529540</td>\n",
       "      <td>-0.066553</td>\n",
       "      <td>0</td>\n",
       "    </tr>\n",
       "  </tbody>\n",
       "</table>\n",
       "</div>"
      ],
      "text/plain": [
       "         pc0       pc1        pc2       pc3       pc4       pc5       pc6  \\\n",
       "0  23.209501 -9.779255  17.026271  2.719227  1.709414 -0.057420  0.656868   \n",
       "1  17.204712 -9.514190  17.003805  2.719841  1.614267  0.895682  0.547262   \n",
       "2  23.200531 -9.777876  17.026325  2.718992  1.708789 -0.053010  0.673608   \n",
       "3 -30.743832 -7.398090  16.822965  2.707186  1.715934 -0.128378  0.718456   \n",
       "4  17.219051 -9.515663  17.003702  2.718789  1.712948 -0.070244  0.657122   \n",
       "\n",
       "        pc7       pc8       pc9      pc10      pc11      pc12  Show-No_Show  \n",
       "0  0.260794  0.158406 -0.418103 -0.114350 -0.387413 -0.044876             0  \n",
       "1  0.075054 -0.448589  0.180085  0.059939  0.001202 -0.034315             0  \n",
       "2  0.143952 -0.352870  0.336261 -0.069597  0.003778 -0.023355             0  \n",
       "3  0.174364  0.009740 -0.041667 -0.200536 -0.016670 -0.007199             0  \n",
       "4  0.315292  0.382622 -0.800763 -0.172663  0.529540 -0.066553             0  "
      ]
     },
     "execution_count": 25,
     "metadata": {},
     "output_type": "execute_result"
    }
   ],
   "source": [
    "pca_df1.head()"
   ]
  },
  {
   "cell_type": "code",
   "execution_count": 27,
   "metadata": {},
   "outputs": [
    {
     "data": {
      "image/png": "[encoded data removed]",
      "text/plain": [
       "<Figure size 443.625x360 with 1 Axes>"
      ]
     },
     "metadata": {
      "needs_background": "light"
     },
     "output_type": "display_data"
    }
   ],
   "source": [
    "sns.lmplot(x=\"pc1\", y=\"pc2\",hue=\"Show-No_Show\",data=pca_df1, fit_reg=False);"
   ]
  },
  {
   "cell_type": "code",
   "execution_count": 28,
   "metadata": {},
   "outputs": [
    {
     "data": {
      "text/plain": [
       "array([5.05002197e+02, 2.25848498e+02, 8.17219393e+01, 3.49071560e+00,\n",
       "       2.62571299e-01, 2.30763411e-01, 1.78188102e-01, 1.49919918e-01,\n",
       "       1.40844413e-01, 1.30801953e-01, 8.61071748e-02, 5.00514821e-02,\n",
       "       2.66478711e-02])"
      ]
     },
     "execution_count": 28,
     "metadata": {},
     "output_type": "execute_result"
    }
   ],
   "source": [
    "pca.explained_variance_"
   ]
  },
  {
   "cell_type": "code",
   "execution_count": 29,
   "metadata": {},
   "outputs": [
    {
     "data": {
      "text/plain": [
       "array([[ 9.98969688e-01, -1.51961321e-03,  8.96974090e-03,\n",
       "         3.36837755e-03,  1.37314153e-03,  5.28384577e-04,\n",
       "         3.44034063e-04, -1.10404416e-03, -2.00059670e-03,\n",
       "         1.39928677e-04, -1.74840124e-03, -8.08070243e-05,\n",
       "         4.42138354e-02],\n",
       "       [-4.40701102e-02, -4.45883773e-04, -1.37869568e-03,\n",
       "        -8.29012090e-04, -1.01405070e-03, -2.66117944e-04,\n",
       "         1.19783897e-02,  4.93062258e-03, -7.34296266e-04,\n",
       "        -2.67301383e-03,  4.56610920e-02, -5.03791298e-04,\n",
       "         9.97894420e-01],\n",
       "       [ 3.76591900e-03,  1.47581033e-04, -5.37014210e-05,\n",
       "         2.65938439e-05,  5.07522184e-05, -4.64450489e-06,\n",
       "        -4.07823187e-03, -4.58087858e-04,  7.56540065e-05,\n",
       "        -8.63755138e-03,  9.98842751e-01,  1.16993418e-02,\n",
       "        -4.55040641e-02],\n",
       "       [ 2.18633550e-04, -1.64245851e-05,  2.34779756e-04,\n",
       "         8.74005236e-04,  1.47207560e-03,  2.46712619e-04,\n",
       "        -2.66284462e-02,  1.95507992e-03,  2.16120007e-03,\n",
       "        -9.99053826e-01, -8.45091275e-03, -3.30974912e-02,\n",
       "        -1.98230727e-03],\n",
       "       [-1.32325555e-04,  1.19164872e-02,  6.25667926e-04,\n",
       "         2.74009049e-03, -1.44803930e-02, -3.11851074e-03,\n",
       "         3.34428278e-01, -1.38935293e-02, -9.53154207e-02,\n",
       "         2.17787675e-02,  1.23002873e-02, -9.36941655e-01,\n",
       "        -5.00628987e-03],\n",
       "       [ 1.39571102e-03, -1.17324936e-01, -4.41072965e-03,\n",
       "        -4.44924972e-03,  2.02990236e-01,  1.17291137e-02,\n",
       "        -9.55545700e-02, -3.63507395e-02,  9.57065677e-01,\n",
       "         9.31570936e-03,  1.28616686e-03, -1.35393080e-01,\n",
       "         2.13744539e-03],\n",
       "       [-8.30528660e-04, -8.86615863e-03, -1.67401627e-02,\n",
       "        -4.72921906e-03, -4.53172847e-02,  3.95134439e-03,\n",
       "        -8.30464524e-01, -4.62553493e-01, -1.31329132e-01,\n",
       "         2.99552400e-02,  4.38458545e-04, -2.75015886e-01,\n",
       "         1.19661078e-02],\n",
       "       [-5.63198866e-04,  8.14924906e-02,  1.16841982e-01,\n",
       "         5.11189925e-02,  2.37458371e-01,  6.69633318e-03,\n",
       "        -4.22069103e-01,  8.43831655e-01, -7.22766653e-02,\n",
       "         1.83864528e-02,  7.16009145e-04, -1.57809767e-01,\n",
       "         1.23914030e-03],\n",
       "       [-6.71499883e-03,  1.38586162e-01,  5.11275806e-01,\n",
       "         1.83925772e-01,  7.65021203e-01,  8.92791431e-03,\n",
       "         9.95001262e-02, -2.64260506e-01, -1.36009099e-01,\n",
       "        -3.51445594e-03, -1.95937861e-04,  4.39678888e-02,\n",
       "         1.43735539e-03],\n",
       "       [ 6.99866102e-03,  3.54754275e-02, -7.54364611e-01,\n",
       "        -3.40667337e-01,  5.46224460e-01, -2.83931937e-02,\n",
       "         1.87179306e-02, -3.04689162e-02, -1.14184587e-01,\n",
       "        -7.88724868e-04, -1.63431970e-04,  9.33449108e-03,\n",
       "        -6.00897180e-04],\n",
       "       [ 2.42479748e-03,  9.78869583e-01, -4.47532716e-02,\n",
       "        -4.37645916e-02, -1.24625003e-01,  1.41037524e-03,\n",
       "        -2.79237561e-03, -3.98430693e-02,  1.44084756e-01,\n",
       "         8.87362482e-05, -1.48284037e-04, -8.54195368e-04,\n",
       "         6.63013789e-04],\n",
       "       [ 3.78662415e-04,  2.68194770e-02, -3.91191173e-01,\n",
       "         9.19225325e-01,  3.11251289e-02,  1.29878238e-02,\n",
       "         4.87084306e-03, -9.79239151e-03, -3.04257223e-04,\n",
       "         4.73269092e-04, -6.88131183e-05,  4.16715793e-03,\n",
       "         2.83197269e-04],\n",
       "       [-2.99196374e-04, -1.05629231e-03, -2.15209656e-02,\n",
       "        -2.34716747e-02,  4.61500541e-03,  9.99367442e-01,\n",
       "         7.86979976e-03, -1.76197761e-03, -1.27546478e-02,\n",
       "        -3.44905421e-05,  3.47788145e-05,  6.37716290e-04,\n",
       "         1.11774515e-04]])"
      ]
     },
     "execution_count": 29,
     "metadata": {},
     "output_type": "execute_result"
    }
   ],
   "source": [
    "pca.components_"
   ]
  },
  {
   "cell_type": "code",
   "execution_count": 30,
   "metadata": {},
   "outputs": [
    {
     "data": {
      "image/png": "[encoded data removed]",
      "text/plain": [
       "<Figure size 720x432 with 1 Axes>"
      ]
     },
     "metadata": {
      "needs_background": "light"
     },
     "output_type": "display_data"
    }
   ],
   "source": [
    "plt.bar(x=[\"pc\"+str(i) for i in range(data.shape[1])], height=pca.explained_variance_ratio_);"
   ]
  },
  {
   "cell_type": "code",
   "execution_count": null,
   "metadata": {},
   "outputs": [],
   "source": []
  }
 ],
 "metadata": {
  "kernelspec": {
   "display_name": "Python 3",
   "language": "python",
   "name": "python3"
  },
  "language_info": {
   "codemirror_mode": {
    "name": "ipython",
    "version": 3
   },
   "file_extension": ".py",
   "mimetype": "text/x-python",
   "name": "python",
   "nbconvert_exporter": "python",
   "pygments_lexer": "ipython3",
   "version": "3.7.6"
  }
 },
 "nbformat": 4,
 "nbformat_minor": 4
}
